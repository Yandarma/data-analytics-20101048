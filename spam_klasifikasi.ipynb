{
  "cells": [
    {
      "cell_type": "markdown",
      "metadata": {
        "id": "view-in-github",
        "colab_type": "text"
      },
      "source": [
        "<a href=\"https://colab.research.google.com/github/Yandarma/data-analytics-20101048/blob/main/spam_klasifikasi.ipynb\" target=\"_parent\"><img src=\"https://colab.research.google.com/assets/colab-badge.svg\" alt=\"Open In Colab\"/></a>"
      ]
    },
    {
      "cell_type": "code",
      "execution_count": 1,
      "id": "30ed8884",
      "metadata": {
        "_cell_guid": "b1076dfc-b9ad-4769-8c92-a6c4dae69d19",
        "_uuid": "8f2839f25d086af736a60e9eeb907d3b93b6e0e5",
        "execution": {
          "iopub.execute_input": "2022-04-07T14:42:39.712342Z",
          "iopub.status.busy": "2022-04-07T14:42:39.711283Z",
          "iopub.status.idle": "2022-04-07T14:42:51.540096Z",
          "shell.execute_reply": "2022-04-07T14:42:51.539073Z",
          "shell.execute_reply.started": "2022-04-07T14:35:20.768077Z"
        },
        "papermill": {
          "duration": 11.862449,
          "end_time": "2022-04-07T14:42:51.540347",
          "exception": false,
          "start_time": "2022-04-07T14:42:39.677898",
          "status": "completed"
        },
        "tags": [],
        "id": "30ed8884"
      },
      "outputs": [],
      "source": [
        "# This Python 3 environment comes with many helpful analytics libraries installed\n",
        "# It is defined by the kaggle/python Docker image: https://github.com/kaggle/docker-python\n",
        "# For example, here's several helpful packages to load\n",
        "\n",
        "import numpy as np # linear algebra\n",
        "import pandas as pd # data processing, CSV file I/O (e.g. pd.read_csv)\n",
        "\n",
        "# Input data files are available in the read-only \"../input/\" directory\n",
        "# For example, running this (by clicking run or pressing Shift+Enter) will list all files under the input directory\n",
        "import re\n",
        "import nltk\n",
        "import spacy\n",
        "import string\n",
        "import os\n",
        "for dirname, _, filenames in os.walk('/kaggle/input'):\n",
        "    for filename in filenames:\n",
        "        print(os.path.join(dirname, filename))\n",
        "\n",
        "# You can write up to 20GB to the current directory (/kaggle/working/) that gets preserved as output when you create a version using \"Save & Run All\" \n",
        "# You can also write temporary files to /kaggle/temp/, but they won't be saved outside of the current session"
      ]
    },
    {
      "cell_type": "code",
      "execution_count": 2,
      "id": "41b3bef5",
      "metadata": {
        "execution": {
          "iopub.execute_input": "2022-04-07T14:42:51.604140Z",
          "iopub.status.busy": "2022-04-07T14:42:51.603349Z",
          "iopub.status.idle": "2022-04-07T14:42:51.759752Z",
          "shell.execute_reply": "2022-04-07T14:42:51.760390Z",
          "shell.execute_reply.started": "2022-04-07T14:35:30.378867Z"
        },
        "papermill": {
          "duration": 0.191519,
          "end_time": "2022-04-07T14:42:51.760615",
          "exception": false,
          "start_time": "2022-04-07T14:42:51.569096",
          "status": "completed"
        },
        "tags": [],
        "colab": {
          "base_uri": "https://localhost:8080/",
          "height": 206
        },
        "id": "41b3bef5",
        "outputId": "c6fd2dea-de6f-4d88-c422-0c8c3f3e4881"
      },
      "outputs": [
        {
          "output_type": "execute_result",
          "data": {
            "text/plain": [
              "  label                                               text  label_num\n",
              "0   ham  Subject: enron methanol ; meter # : 988291\\r\\n...          0\n",
              "1   ham  Subject: hpl nom for january 9 , 2001\\r\\n( see...          0\n",
              "2   ham  Subject: neon retreat\\r\\nho ho ho , we ' re ar...          0\n",
              "3  spam  Subject: photoshop , windows , office . cheap ...          1\n",
              "4   ham  Subject: re : indian springs\\r\\nthis deal is t...          0"
            ],
            "text/html": [
              "\n",
              "  <div id=\"df-638ba7a2-6bf8-43e6-add9-9af99ded0808\">\n",
              "    <div class=\"colab-df-container\">\n",
              "      <div>\n",
              "<style scoped>\n",
              "    .dataframe tbody tr th:only-of-type {\n",
              "        vertical-align: middle;\n",
              "    }\n",
              "\n",
              "    .dataframe tbody tr th {\n",
              "        vertical-align: top;\n",
              "    }\n",
              "\n",
              "    .dataframe thead th {\n",
              "        text-align: right;\n",
              "    }\n",
              "</style>\n",
              "<table border=\"1\" class=\"dataframe\">\n",
              "  <thead>\n",
              "    <tr style=\"text-align: right;\">\n",
              "      <th></th>\n",
              "      <th>label</th>\n",
              "      <th>text</th>\n",
              "      <th>label_num</th>\n",
              "    </tr>\n",
              "  </thead>\n",
              "  <tbody>\n",
              "    <tr>\n",
              "      <th>0</th>\n",
              "      <td>ham</td>\n",
              "      <td>Subject: enron methanol ; meter # : 988291\\r\\n...</td>\n",
              "      <td>0</td>\n",
              "    </tr>\n",
              "    <tr>\n",
              "      <th>1</th>\n",
              "      <td>ham</td>\n",
              "      <td>Subject: hpl nom for january 9 , 2001\\r\\n( see...</td>\n",
              "      <td>0</td>\n",
              "    </tr>\n",
              "    <tr>\n",
              "      <th>2</th>\n",
              "      <td>ham</td>\n",
              "      <td>Subject: neon retreat\\r\\nho ho ho , we ' re ar...</td>\n",
              "      <td>0</td>\n",
              "    </tr>\n",
              "    <tr>\n",
              "      <th>3</th>\n",
              "      <td>spam</td>\n",
              "      <td>Subject: photoshop , windows , office . cheap ...</td>\n",
              "      <td>1</td>\n",
              "    </tr>\n",
              "    <tr>\n",
              "      <th>4</th>\n",
              "      <td>ham</td>\n",
              "      <td>Subject: re : indian springs\\r\\nthis deal is t...</td>\n",
              "      <td>0</td>\n",
              "    </tr>\n",
              "  </tbody>\n",
              "</table>\n",
              "</div>\n",
              "      <button class=\"colab-df-convert\" onclick=\"convertToInteractive('df-638ba7a2-6bf8-43e6-add9-9af99ded0808')\"\n",
              "              title=\"Convert this dataframe to an interactive table.\"\n",
              "              style=\"display:none;\">\n",
              "        \n",
              "  <svg xmlns=\"http://www.w3.org/2000/svg\" height=\"24px\"viewBox=\"0 0 24 24\"\n",
              "       width=\"24px\">\n",
              "    <path d=\"M0 0h24v24H0V0z\" fill=\"none\"/>\n",
              "    <path d=\"M18.56 5.44l.94 2.06.94-2.06 2.06-.94-2.06-.94-.94-2.06-.94 2.06-2.06.94zm-11 1L8.5 8.5l.94-2.06 2.06-.94-2.06-.94L8.5 2.5l-.94 2.06-2.06.94zm10 10l.94 2.06.94-2.06 2.06-.94-2.06-.94-.94-2.06-.94 2.06-2.06.94z\"/><path d=\"M17.41 7.96l-1.37-1.37c-.4-.4-.92-.59-1.43-.59-.52 0-1.04.2-1.43.59L10.3 9.45l-7.72 7.72c-.78.78-.78 2.05 0 2.83L4 21.41c.39.39.9.59 1.41.59.51 0 1.02-.2 1.41-.59l7.78-7.78 2.81-2.81c.8-.78.8-2.07 0-2.86zM5.41 20L4 18.59l7.72-7.72 1.47 1.35L5.41 20z\"/>\n",
              "  </svg>\n",
              "      </button>\n",
              "      \n",
              "  <style>\n",
              "    .colab-df-container {\n",
              "      display:flex;\n",
              "      flex-wrap:wrap;\n",
              "      gap: 12px;\n",
              "    }\n",
              "\n",
              "    .colab-df-convert {\n",
              "      background-color: #E8F0FE;\n",
              "      border: none;\n",
              "      border-radius: 50%;\n",
              "      cursor: pointer;\n",
              "      display: none;\n",
              "      fill: #1967D2;\n",
              "      height: 32px;\n",
              "      padding: 0 0 0 0;\n",
              "      width: 32px;\n",
              "    }\n",
              "\n",
              "    .colab-df-convert:hover {\n",
              "      background-color: #E2EBFA;\n",
              "      box-shadow: 0px 1px 2px rgba(60, 64, 67, 0.3), 0px 1px 3px 1px rgba(60, 64, 67, 0.15);\n",
              "      fill: #174EA6;\n",
              "    }\n",
              "\n",
              "    [theme=dark] .colab-df-convert {\n",
              "      background-color: #3B4455;\n",
              "      fill: #D2E3FC;\n",
              "    }\n",
              "\n",
              "    [theme=dark] .colab-df-convert:hover {\n",
              "      background-color: #434B5C;\n",
              "      box-shadow: 0px 1px 3px 1px rgba(0, 0, 0, 0.15);\n",
              "      filter: drop-shadow(0px 1px 2px rgba(0, 0, 0, 0.3));\n",
              "      fill: #FFFFFF;\n",
              "    }\n",
              "  </style>\n",
              "\n",
              "      <script>\n",
              "        const buttonEl =\n",
              "          document.querySelector('#df-638ba7a2-6bf8-43e6-add9-9af99ded0808 button.colab-df-convert');\n",
              "        buttonEl.style.display =\n",
              "          google.colab.kernel.accessAllowed ? 'block' : 'none';\n",
              "\n",
              "        async function convertToInteractive(key) {\n",
              "          const element = document.querySelector('#df-638ba7a2-6bf8-43e6-add9-9af99ded0808');\n",
              "          const dataTable =\n",
              "            await google.colab.kernel.invokeFunction('convertToInteractive',\n",
              "                                                     [key], {});\n",
              "          if (!dataTable) return;\n",
              "\n",
              "          const docLinkHtml = 'Like what you see? Visit the ' +\n",
              "            '<a target=\"_blank\" href=https://colab.research.google.com/notebooks/data_table.ipynb>data table notebook</a>'\n",
              "            + ' to learn more about interactive tables.';\n",
              "          element.innerHTML = '';\n",
              "          dataTable['output_type'] = 'display_data';\n",
              "          await google.colab.output.renderOutput(dataTable, element);\n",
              "          const docLink = document.createElement('div');\n",
              "          docLink.innerHTML = docLinkHtml;\n",
              "          element.appendChild(docLink);\n",
              "        }\n",
              "      </script>\n",
              "    </div>\n",
              "  </div>\n",
              "  "
            ]
          },
          "metadata": {},
          "execution_count": 2
        }
      ],
      "source": [
        "df = pd.read_csv('/spam_ham_dataset.csv')\n",
        "df.drop(columns=['Unnamed: 0'], inplace=True)\n",
        "df.head()"
      ]
    },
    {
      "cell_type": "code",
      "execution_count": 3,
      "id": "66a15594",
      "metadata": {
        "execution": {
          "iopub.execute_input": "2022-04-07T14:42:51.813040Z",
          "iopub.status.busy": "2022-04-07T14:42:51.812310Z",
          "iopub.status.idle": "2022-04-07T14:42:51.835753Z",
          "shell.execute_reply": "2022-04-07T14:42:51.836391Z",
          "shell.execute_reply.started": "2022-04-07T14:35:30.545122Z"
        },
        "papermill": {
          "duration": 0.051244,
          "end_time": "2022-04-07T14:42:51.836597",
          "exception": false,
          "start_time": "2022-04-07T14:42:51.785353",
          "status": "completed"
        },
        "tags": [],
        "colab": {
          "base_uri": "https://localhost:8080/"
        },
        "id": "66a15594",
        "outputId": "1c99d4e9-e4de-433a-a583-c436f7e80f21"
      },
      "outputs": [
        {
          "output_type": "stream",
          "name": "stdout",
          "text": [
            "<class 'pandas.core.frame.DataFrame'>\n",
            "RangeIndex: 5171 entries, 0 to 5170\n",
            "Data columns (total 3 columns):\n",
            " #   Column     Non-Null Count  Dtype \n",
            "---  ------     --------------  ----- \n",
            " 0   label      5171 non-null   object\n",
            " 1   text       5171 non-null   object\n",
            " 2   label_num  5171 non-null   int64 \n",
            "dtypes: int64(1), object(2)\n",
            "memory usage: 121.3+ KB\n"
          ]
        }
      ],
      "source": [
        "df.info()"
      ]
    },
    {
      "cell_type": "markdown",
      "id": "1ba561d1",
      "metadata": {
        "papermill": {
          "duration": 0.022773,
          "end_time": "2022-04-07T14:42:51.882817",
          "exception": false,
          "start_time": "2022-04-07T14:42:51.860044",
          "status": "completed"
        },
        "tags": [],
        "id": "1ba561d1"
      },
      "source": [
        "1. All letters are converted from uppercase to lowercase\n",
        "2. All characters and punctuation marks are deleted except\n",
        "for the alphabets in Turkish and English.\n",
        "3. Numbers are deleted.\n",
        "4. Certain abbreviations in the text are expanded.\n",
        "5. The words are split according to the white space.\n",
        "6. Every word obtained as a result of splitting is separated\n",
        "into its roots utilizing Zemberek [22], which is the\n",
        "Turkish natural language processing library.\n",
        "7. Stop words are deleted."
      ]
    },
    {
      "cell_type": "markdown",
      "id": "f36d7405",
      "metadata": {
        "papermill": {
          "duration": 0.023035,
          "end_time": "2022-04-07T14:42:51.929147",
          "exception": false,
          "start_time": "2022-04-07T14:42:51.906112",
          "status": "completed"
        },
        "tags": [],
        "id": "f36d7405"
      },
      "source": [
        ""
      ]
    },
    {
      "cell_type": "code",
      "execution_count": 4,
      "id": "c69aabd1",
      "metadata": {
        "execution": {
          "iopub.execute_input": "2022-04-07T14:42:51.980042Z",
          "iopub.status.busy": "2022-04-07T14:42:51.979350Z",
          "iopub.status.idle": "2022-04-07T14:42:52.006337Z",
          "shell.execute_reply": "2022-04-07T14:42:52.006877Z",
          "shell.execute_reply.started": "2022-04-07T14:35:30.568336Z"
        },
        "papermill": {
          "duration": 0.054008,
          "end_time": "2022-04-07T14:42:52.007081",
          "exception": false,
          "start_time": "2022-04-07T14:42:51.953073",
          "status": "completed"
        },
        "tags": [],
        "colab": {
          "base_uri": "https://localhost:8080/",
          "height": 206
        },
        "id": "c69aabd1",
        "outputId": "25052a4f-0a79-4a01-9c82-ebe821fe1d44"
      },
      "outputs": [
        {
          "output_type": "execute_result",
          "data": {
            "text/plain": [
              "  label                                               text  label_num\n",
              "0   ham  subject: enron methanol ; meter # : 988291\\r\\n...          0\n",
              "1   ham  subject: hpl nom for january 9 , 2001\\r\\n( see...          0\n",
              "2   ham  subject: neon retreat\\r\\nho ho ho , we ' re ar...          0\n",
              "3  spam  subject: photoshop , windows , office . cheap ...          1\n",
              "4   ham  subject: re : indian springs\\r\\nthis deal is t...          0"
            ],
            "text/html": [
              "\n",
              "  <div id=\"df-7717a120-cafd-4f30-9d2a-aa5d6c2d11aa\">\n",
              "    <div class=\"colab-df-container\">\n",
              "      <div>\n",
              "<style scoped>\n",
              "    .dataframe tbody tr th:only-of-type {\n",
              "        vertical-align: middle;\n",
              "    }\n",
              "\n",
              "    .dataframe tbody tr th {\n",
              "        vertical-align: top;\n",
              "    }\n",
              "\n",
              "    .dataframe thead th {\n",
              "        text-align: right;\n",
              "    }\n",
              "</style>\n",
              "<table border=\"1\" class=\"dataframe\">\n",
              "  <thead>\n",
              "    <tr style=\"text-align: right;\">\n",
              "      <th></th>\n",
              "      <th>label</th>\n",
              "      <th>text</th>\n",
              "      <th>label_num</th>\n",
              "    </tr>\n",
              "  </thead>\n",
              "  <tbody>\n",
              "    <tr>\n",
              "      <th>0</th>\n",
              "      <td>ham</td>\n",
              "      <td>subject: enron methanol ; meter # : 988291\\r\\n...</td>\n",
              "      <td>0</td>\n",
              "    </tr>\n",
              "    <tr>\n",
              "      <th>1</th>\n",
              "      <td>ham</td>\n",
              "      <td>subject: hpl nom for january 9 , 2001\\r\\n( see...</td>\n",
              "      <td>0</td>\n",
              "    </tr>\n",
              "    <tr>\n",
              "      <th>2</th>\n",
              "      <td>ham</td>\n",
              "      <td>subject: neon retreat\\r\\nho ho ho , we ' re ar...</td>\n",
              "      <td>0</td>\n",
              "    </tr>\n",
              "    <tr>\n",
              "      <th>3</th>\n",
              "      <td>spam</td>\n",
              "      <td>subject: photoshop , windows , office . cheap ...</td>\n",
              "      <td>1</td>\n",
              "    </tr>\n",
              "    <tr>\n",
              "      <th>4</th>\n",
              "      <td>ham</td>\n",
              "      <td>subject: re : indian springs\\r\\nthis deal is t...</td>\n",
              "      <td>0</td>\n",
              "    </tr>\n",
              "  </tbody>\n",
              "</table>\n",
              "</div>\n",
              "      <button class=\"colab-df-convert\" onclick=\"convertToInteractive('df-7717a120-cafd-4f30-9d2a-aa5d6c2d11aa')\"\n",
              "              title=\"Convert this dataframe to an interactive table.\"\n",
              "              style=\"display:none;\">\n",
              "        \n",
              "  <svg xmlns=\"http://www.w3.org/2000/svg\" height=\"24px\"viewBox=\"0 0 24 24\"\n",
              "       width=\"24px\">\n",
              "    <path d=\"M0 0h24v24H0V0z\" fill=\"none\"/>\n",
              "    <path d=\"M18.56 5.44l.94 2.06.94-2.06 2.06-.94-2.06-.94-.94-2.06-.94 2.06-2.06.94zm-11 1L8.5 8.5l.94-2.06 2.06-.94-2.06-.94L8.5 2.5l-.94 2.06-2.06.94zm10 10l.94 2.06.94-2.06 2.06-.94-2.06-.94-.94-2.06-.94 2.06-2.06.94z\"/><path d=\"M17.41 7.96l-1.37-1.37c-.4-.4-.92-.59-1.43-.59-.52 0-1.04.2-1.43.59L10.3 9.45l-7.72 7.72c-.78.78-.78 2.05 0 2.83L4 21.41c.39.39.9.59 1.41.59.51 0 1.02-.2 1.41-.59l7.78-7.78 2.81-2.81c.8-.78.8-2.07 0-2.86zM5.41 20L4 18.59l7.72-7.72 1.47 1.35L5.41 20z\"/>\n",
              "  </svg>\n",
              "      </button>\n",
              "      \n",
              "  <style>\n",
              "    .colab-df-container {\n",
              "      display:flex;\n",
              "      flex-wrap:wrap;\n",
              "      gap: 12px;\n",
              "    }\n",
              "\n",
              "    .colab-df-convert {\n",
              "      background-color: #E8F0FE;\n",
              "      border: none;\n",
              "      border-radius: 50%;\n",
              "      cursor: pointer;\n",
              "      display: none;\n",
              "      fill: #1967D2;\n",
              "      height: 32px;\n",
              "      padding: 0 0 0 0;\n",
              "      width: 32px;\n",
              "    }\n",
              "\n",
              "    .colab-df-convert:hover {\n",
              "      background-color: #E2EBFA;\n",
              "      box-shadow: 0px 1px 2px rgba(60, 64, 67, 0.3), 0px 1px 3px 1px rgba(60, 64, 67, 0.15);\n",
              "      fill: #174EA6;\n",
              "    }\n",
              "\n",
              "    [theme=dark] .colab-df-convert {\n",
              "      background-color: #3B4455;\n",
              "      fill: #D2E3FC;\n",
              "    }\n",
              "\n",
              "    [theme=dark] .colab-df-convert:hover {\n",
              "      background-color: #434B5C;\n",
              "      box-shadow: 0px 1px 3px 1px rgba(0, 0, 0, 0.15);\n",
              "      filter: drop-shadow(0px 1px 2px rgba(0, 0, 0, 0.3));\n",
              "      fill: #FFFFFF;\n",
              "    }\n",
              "  </style>\n",
              "\n",
              "      <script>\n",
              "        const buttonEl =\n",
              "          document.querySelector('#df-7717a120-cafd-4f30-9d2a-aa5d6c2d11aa button.colab-df-convert');\n",
              "        buttonEl.style.display =\n",
              "          google.colab.kernel.accessAllowed ? 'block' : 'none';\n",
              "\n",
              "        async function convertToInteractive(key) {\n",
              "          const element = document.querySelector('#df-7717a120-cafd-4f30-9d2a-aa5d6c2d11aa');\n",
              "          const dataTable =\n",
              "            await google.colab.kernel.invokeFunction('convertToInteractive',\n",
              "                                                     [key], {});\n",
              "          if (!dataTable) return;\n",
              "\n",
              "          const docLinkHtml = 'Like what you see? Visit the ' +\n",
              "            '<a target=\"_blank\" href=https://colab.research.google.com/notebooks/data_table.ipynb>data table notebook</a>'\n",
              "            + ' to learn more about interactive tables.';\n",
              "          element.innerHTML = '';\n",
              "          dataTable['output_type'] = 'display_data';\n",
              "          await google.colab.output.renderOutput(dataTable, element);\n",
              "          const docLink = document.createElement('div');\n",
              "          docLink.innerHTML = docLinkHtml;\n",
              "          element.appendChild(docLink);\n",
              "        }\n",
              "      </script>\n",
              "    </div>\n",
              "  </div>\n",
              "  "
            ]
          },
          "metadata": {},
          "execution_count": 4
        }
      ],
      "source": [
        "# All letters are converted from uppercase to lowercase\n",
        "df[\"text\"] = df[\"text\"].str.lower()\n",
        "df.head()"
      ]
    },
    {
      "cell_type": "code",
      "execution_count": 5,
      "id": "1a8fb2de",
      "metadata": {
        "execution": {
          "iopub.execute_input": "2022-04-07T14:42:52.058452Z",
          "iopub.status.busy": "2022-04-07T14:42:52.057686Z",
          "iopub.status.idle": "2022-04-07T14:42:52.127577Z",
          "shell.execute_reply": "2022-04-07T14:42:52.128253Z",
          "shell.execute_reply.started": "2022-04-07T14:35:30.594101Z"
        },
        "papermill": {
          "duration": 0.097561,
          "end_time": "2022-04-07T14:42:52.128456",
          "exception": false,
          "start_time": "2022-04-07T14:42:52.030895",
          "status": "completed"
        },
        "tags": [],
        "colab": {
          "base_uri": "https://localhost:8080/",
          "height": 206
        },
        "id": "1a8fb2de",
        "outputId": "6ae5afc9-0db0-4df1-a507-3d182c02a7e7"
      },
      "outputs": [
        {
          "output_type": "execute_result",
          "data": {
            "text/plain": [
              "  label                                               text  label_num\n",
              "0   ham   enron methanol ; meter # : 988291\\r\\nthis is ...          0\n",
              "1   ham   hpl nom for january 9 , 2001\\r\\n( see attache...          0\n",
              "2   ham   neon retreat\\r\\nho ho ho , we ' re around to ...          0\n",
              "3  spam   photoshop , windows , office . cheap . main t...          1\n",
              "4   ham    indian springs\\r\\nthis deal is to book the t...          0"
            ],
            "text/html": [
              "\n",
              "  <div id=\"df-229ad9c5-2158-41e3-bf06-939462773952\">\n",
              "    <div class=\"colab-df-container\">\n",
              "      <div>\n",
              "<style scoped>\n",
              "    .dataframe tbody tr th:only-of-type {\n",
              "        vertical-align: middle;\n",
              "    }\n",
              "\n",
              "    .dataframe tbody tr th {\n",
              "        vertical-align: top;\n",
              "    }\n",
              "\n",
              "    .dataframe thead th {\n",
              "        text-align: right;\n",
              "    }\n",
              "</style>\n",
              "<table border=\"1\" class=\"dataframe\">\n",
              "  <thead>\n",
              "    <tr style=\"text-align: right;\">\n",
              "      <th></th>\n",
              "      <th>label</th>\n",
              "      <th>text</th>\n",
              "      <th>label_num</th>\n",
              "    </tr>\n",
              "  </thead>\n",
              "  <tbody>\n",
              "    <tr>\n",
              "      <th>0</th>\n",
              "      <td>ham</td>\n",
              "      <td>enron methanol ; meter # : 988291\\r\\nthis is ...</td>\n",
              "      <td>0</td>\n",
              "    </tr>\n",
              "    <tr>\n",
              "      <th>1</th>\n",
              "      <td>ham</td>\n",
              "      <td>hpl nom for january 9 , 2001\\r\\n( see attache...</td>\n",
              "      <td>0</td>\n",
              "    </tr>\n",
              "    <tr>\n",
              "      <th>2</th>\n",
              "      <td>ham</td>\n",
              "      <td>neon retreat\\r\\nho ho ho , we ' re around to ...</td>\n",
              "      <td>0</td>\n",
              "    </tr>\n",
              "    <tr>\n",
              "      <th>3</th>\n",
              "      <td>spam</td>\n",
              "      <td>photoshop , windows , office . cheap . main t...</td>\n",
              "      <td>1</td>\n",
              "    </tr>\n",
              "    <tr>\n",
              "      <th>4</th>\n",
              "      <td>ham</td>\n",
              "      <td>indian springs\\r\\nthis deal is to book the t...</td>\n",
              "      <td>0</td>\n",
              "    </tr>\n",
              "  </tbody>\n",
              "</table>\n",
              "</div>\n",
              "      <button class=\"colab-df-convert\" onclick=\"convertToInteractive('df-229ad9c5-2158-41e3-bf06-939462773952')\"\n",
              "              title=\"Convert this dataframe to an interactive table.\"\n",
              "              style=\"display:none;\">\n",
              "        \n",
              "  <svg xmlns=\"http://www.w3.org/2000/svg\" height=\"24px\"viewBox=\"0 0 24 24\"\n",
              "       width=\"24px\">\n",
              "    <path d=\"M0 0h24v24H0V0z\" fill=\"none\"/>\n",
              "    <path d=\"M18.56 5.44l.94 2.06.94-2.06 2.06-.94-2.06-.94-.94-2.06-.94 2.06-2.06.94zm-11 1L8.5 8.5l.94-2.06 2.06-.94-2.06-.94L8.5 2.5l-.94 2.06-2.06.94zm10 10l.94 2.06.94-2.06 2.06-.94-2.06-.94-.94-2.06-.94 2.06-2.06.94z\"/><path d=\"M17.41 7.96l-1.37-1.37c-.4-.4-.92-.59-1.43-.59-.52 0-1.04.2-1.43.59L10.3 9.45l-7.72 7.72c-.78.78-.78 2.05 0 2.83L4 21.41c.39.39.9.59 1.41.59.51 0 1.02-.2 1.41-.59l7.78-7.78 2.81-2.81c.8-.78.8-2.07 0-2.86zM5.41 20L4 18.59l7.72-7.72 1.47 1.35L5.41 20z\"/>\n",
              "  </svg>\n",
              "      </button>\n",
              "      \n",
              "  <style>\n",
              "    .colab-df-container {\n",
              "      display:flex;\n",
              "      flex-wrap:wrap;\n",
              "      gap: 12px;\n",
              "    }\n",
              "\n",
              "    .colab-df-convert {\n",
              "      background-color: #E8F0FE;\n",
              "      border: none;\n",
              "      border-radius: 50%;\n",
              "      cursor: pointer;\n",
              "      display: none;\n",
              "      fill: #1967D2;\n",
              "      height: 32px;\n",
              "      padding: 0 0 0 0;\n",
              "      width: 32px;\n",
              "    }\n",
              "\n",
              "    .colab-df-convert:hover {\n",
              "      background-color: #E2EBFA;\n",
              "      box-shadow: 0px 1px 2px rgba(60, 64, 67, 0.3), 0px 1px 3px 1px rgba(60, 64, 67, 0.15);\n",
              "      fill: #174EA6;\n",
              "    }\n",
              "\n",
              "    [theme=dark] .colab-df-convert {\n",
              "      background-color: #3B4455;\n",
              "      fill: #D2E3FC;\n",
              "    }\n",
              "\n",
              "    [theme=dark] .colab-df-convert:hover {\n",
              "      background-color: #434B5C;\n",
              "      box-shadow: 0px 1px 3px 1px rgba(0, 0, 0, 0.15);\n",
              "      filter: drop-shadow(0px 1px 2px rgba(0, 0, 0, 0.3));\n",
              "      fill: #FFFFFF;\n",
              "    }\n",
              "  </style>\n",
              "\n",
              "      <script>\n",
              "        const buttonEl =\n",
              "          document.querySelector('#df-229ad9c5-2158-41e3-bf06-939462773952 button.colab-df-convert');\n",
              "        buttonEl.style.display =\n",
              "          google.colab.kernel.accessAllowed ? 'block' : 'none';\n",
              "\n",
              "        async function convertToInteractive(key) {\n",
              "          const element = document.querySelector('#df-229ad9c5-2158-41e3-bf06-939462773952');\n",
              "          const dataTable =\n",
              "            await google.colab.kernel.invokeFunction('convertToInteractive',\n",
              "                                                     [key], {});\n",
              "          if (!dataTable) return;\n",
              "\n",
              "          const docLinkHtml = 'Like what you see? Visit the ' +\n",
              "            '<a target=\"_blank\" href=https://colab.research.google.com/notebooks/data_table.ipynb>data table notebook</a>'\n",
              "            + ' to learn more about interactive tables.';\n",
              "          element.innerHTML = '';\n",
              "          dataTable['output_type'] = 'display_data';\n",
              "          await google.colab.output.renderOutput(dataTable, element);\n",
              "          const docLink = document.createElement('div');\n",
              "          docLink.innerHTML = docLinkHtml;\n",
              "          element.appendChild(docLink);\n",
              "        }\n",
              "      </script>\n",
              "    </div>\n",
              "  </div>\n",
              "  "
            ]
          },
          "metadata": {},
          "execution_count": 5
        }
      ],
      "source": [
        "# remove subject: re :\n",
        "df['text'].replace('subject:','',regex=True, inplace = True)\n",
        "df['text'].replace('subject: re :','',regex=True, inplace = True)\n",
        "df['text'].replace('re :','',regex=True, inplace = True)\n",
        "df.head()"
      ]
    },
    {
      "cell_type": "code",
      "execution_count": 6,
      "id": "4a5d879b",
      "metadata": {
        "execution": {
          "iopub.execute_input": "2022-04-07T14:42:52.190745Z",
          "iopub.status.busy": "2022-04-07T14:42:52.181279Z",
          "iopub.status.idle": "2022-04-07T14:42:52.238860Z",
          "shell.execute_reply": "2022-04-07T14:42:52.239437Z",
          "shell.execute_reply.started": "2022-04-07T14:35:30.665410Z"
        },
        "papermill": {
          "duration": 0.085966,
          "end_time": "2022-04-07T14:42:52.239650",
          "exception": false,
          "start_time": "2022-04-07T14:42:52.153684",
          "status": "completed"
        },
        "tags": [],
        "colab": {
          "base_uri": "https://localhost:8080/",
          "height": 206
        },
        "id": "4a5d879b",
        "outputId": "fba9b221-268d-4fbc-fe9b-b76ffb90533a"
      },
      "outputs": [
        {
          "output_type": "execute_result",
          "data": {
            "text/plain": [
              "  label                                               text  label_num\n",
              "0   ham   enron methanol  meter   988291\\r\\nthis is a f...          0\n",
              "1   ham   hpl nom for january 9  2001\\r\\n see attached ...          0\n",
              "2   ham   neon retreat\\r\\nho ho ho  we  re around to th...          0\n",
              "3  spam   photoshop  windows  office  cheap  main trend...          1\n",
              "4   ham    indian springs\\r\\nthis deal is to book the t...          0"
            ],
            "text/html": [
              "\n",
              "  <div id=\"df-b2c1ba8f-cc98-4c5d-96a2-c00179bc85cb\">\n",
              "    <div class=\"colab-df-container\">\n",
              "      <div>\n",
              "<style scoped>\n",
              "    .dataframe tbody tr th:only-of-type {\n",
              "        vertical-align: middle;\n",
              "    }\n",
              "\n",
              "    .dataframe tbody tr th {\n",
              "        vertical-align: top;\n",
              "    }\n",
              "\n",
              "    .dataframe thead th {\n",
              "        text-align: right;\n",
              "    }\n",
              "</style>\n",
              "<table border=\"1\" class=\"dataframe\">\n",
              "  <thead>\n",
              "    <tr style=\"text-align: right;\">\n",
              "      <th></th>\n",
              "      <th>label</th>\n",
              "      <th>text</th>\n",
              "      <th>label_num</th>\n",
              "    </tr>\n",
              "  </thead>\n",
              "  <tbody>\n",
              "    <tr>\n",
              "      <th>0</th>\n",
              "      <td>ham</td>\n",
              "      <td>enron methanol  meter   988291\\r\\nthis is a f...</td>\n",
              "      <td>0</td>\n",
              "    </tr>\n",
              "    <tr>\n",
              "      <th>1</th>\n",
              "      <td>ham</td>\n",
              "      <td>hpl nom for january 9  2001\\r\\n see attached ...</td>\n",
              "      <td>0</td>\n",
              "    </tr>\n",
              "    <tr>\n",
              "      <th>2</th>\n",
              "      <td>ham</td>\n",
              "      <td>neon retreat\\r\\nho ho ho  we  re around to th...</td>\n",
              "      <td>0</td>\n",
              "    </tr>\n",
              "    <tr>\n",
              "      <th>3</th>\n",
              "      <td>spam</td>\n",
              "      <td>photoshop  windows  office  cheap  main trend...</td>\n",
              "      <td>1</td>\n",
              "    </tr>\n",
              "    <tr>\n",
              "      <th>4</th>\n",
              "      <td>ham</td>\n",
              "      <td>indian springs\\r\\nthis deal is to book the t...</td>\n",
              "      <td>0</td>\n",
              "    </tr>\n",
              "  </tbody>\n",
              "</table>\n",
              "</div>\n",
              "      <button class=\"colab-df-convert\" onclick=\"convertToInteractive('df-b2c1ba8f-cc98-4c5d-96a2-c00179bc85cb')\"\n",
              "              title=\"Convert this dataframe to an interactive table.\"\n",
              "              style=\"display:none;\">\n",
              "        \n",
              "  <svg xmlns=\"http://www.w3.org/2000/svg\" height=\"24px\"viewBox=\"0 0 24 24\"\n",
              "       width=\"24px\">\n",
              "    <path d=\"M0 0h24v24H0V0z\" fill=\"none\"/>\n",
              "    <path d=\"M18.56 5.44l.94 2.06.94-2.06 2.06-.94-2.06-.94-.94-2.06-.94 2.06-2.06.94zm-11 1L8.5 8.5l.94-2.06 2.06-.94-2.06-.94L8.5 2.5l-.94 2.06-2.06.94zm10 10l.94 2.06.94-2.06 2.06-.94-2.06-.94-.94-2.06-.94 2.06-2.06.94z\"/><path d=\"M17.41 7.96l-1.37-1.37c-.4-.4-.92-.59-1.43-.59-.52 0-1.04.2-1.43.59L10.3 9.45l-7.72 7.72c-.78.78-.78 2.05 0 2.83L4 21.41c.39.39.9.59 1.41.59.51 0 1.02-.2 1.41-.59l7.78-7.78 2.81-2.81c.8-.78.8-2.07 0-2.86zM5.41 20L4 18.59l7.72-7.72 1.47 1.35L5.41 20z\"/>\n",
              "  </svg>\n",
              "      </button>\n",
              "      \n",
              "  <style>\n",
              "    .colab-df-container {\n",
              "      display:flex;\n",
              "      flex-wrap:wrap;\n",
              "      gap: 12px;\n",
              "    }\n",
              "\n",
              "    .colab-df-convert {\n",
              "      background-color: #E8F0FE;\n",
              "      border: none;\n",
              "      border-radius: 50%;\n",
              "      cursor: pointer;\n",
              "      display: none;\n",
              "      fill: #1967D2;\n",
              "      height: 32px;\n",
              "      padding: 0 0 0 0;\n",
              "      width: 32px;\n",
              "    }\n",
              "\n",
              "    .colab-df-convert:hover {\n",
              "      background-color: #E2EBFA;\n",
              "      box-shadow: 0px 1px 2px rgba(60, 64, 67, 0.3), 0px 1px 3px 1px rgba(60, 64, 67, 0.15);\n",
              "      fill: #174EA6;\n",
              "    }\n",
              "\n",
              "    [theme=dark] .colab-df-convert {\n",
              "      background-color: #3B4455;\n",
              "      fill: #D2E3FC;\n",
              "    }\n",
              "\n",
              "    [theme=dark] .colab-df-convert:hover {\n",
              "      background-color: #434B5C;\n",
              "      box-shadow: 0px 1px 3px 1px rgba(0, 0, 0, 0.15);\n",
              "      filter: drop-shadow(0px 1px 2px rgba(0, 0, 0, 0.3));\n",
              "      fill: #FFFFFF;\n",
              "    }\n",
              "  </style>\n",
              "\n",
              "      <script>\n",
              "        const buttonEl =\n",
              "          document.querySelector('#df-b2c1ba8f-cc98-4c5d-96a2-c00179bc85cb button.colab-df-convert');\n",
              "        buttonEl.style.display =\n",
              "          google.colab.kernel.accessAllowed ? 'block' : 'none';\n",
              "\n",
              "        async function convertToInteractive(key) {\n",
              "          const element = document.querySelector('#df-b2c1ba8f-cc98-4c5d-96a2-c00179bc85cb');\n",
              "          const dataTable =\n",
              "            await google.colab.kernel.invokeFunction('convertToInteractive',\n",
              "                                                     [key], {});\n",
              "          if (!dataTable) return;\n",
              "\n",
              "          const docLinkHtml = 'Like what you see? Visit the ' +\n",
              "            '<a target=\"_blank\" href=https://colab.research.google.com/notebooks/data_table.ipynb>data table notebook</a>'\n",
              "            + ' to learn more about interactive tables.';\n",
              "          element.innerHTML = '';\n",
              "          dataTable['output_type'] = 'display_data';\n",
              "          await google.colab.output.renderOutput(dataTable, element);\n",
              "          const docLink = document.createElement('div');\n",
              "          docLink.innerHTML = docLinkHtml;\n",
              "          element.appendChild(docLink);\n",
              "        }\n",
              "      </script>\n",
              "    </div>\n",
              "  </div>\n",
              "  "
            ]
          },
          "metadata": {},
          "execution_count": 6
        }
      ],
      "source": [
        "# punctuation marks are deleted\n",
        "PUNCT_TO_REMOVE = string.punctuation\n",
        "def remove_punctuation(text):\n",
        "    \"\"\"custom function to remove the punctuation\"\"\"\n",
        "    return text.translate(str.maketrans('', '', PUNCT_TO_REMOVE))\n",
        "df[\"text\"] = df[\"text\"].apply(lambda text: remove_punctuation(text))\n",
        "df.head()"
      ]
    },
    {
      "cell_type": "code",
      "execution_count": 7,
      "id": "e5bb3849",
      "metadata": {
        "execution": {
          "iopub.execute_input": "2022-04-07T14:42:52.300815Z",
          "iopub.status.busy": "2022-04-07T14:42:52.293025Z",
          "iopub.status.idle": "2022-04-07T14:42:52.467613Z",
          "shell.execute_reply": "2022-04-07T14:42:52.466899Z",
          "shell.execute_reply.started": "2022-04-07T14:35:30.723065Z"
        },
        "papermill": {
          "duration": 0.202937,
          "end_time": "2022-04-07T14:42:52.467777",
          "exception": false,
          "start_time": "2022-04-07T14:42:52.264840",
          "status": "completed"
        },
        "tags": [],
        "colab": {
          "base_uri": "https://localhost:8080/",
          "height": 206
        },
        "id": "e5bb3849",
        "outputId": "122a7c0b-e9a1-4f8b-f9fd-9649f5229bd4"
      },
      "outputs": [
        {
          "output_type": "execute_result",
          "data": {
            "text/plain": [
              "  label                                               text  label_num\n",
              "0   ham   enron methanol  meter   \\r\\nthis is a follow ...          0\n",
              "1   ham   hpl nom for january   \\r\\n see attached file ...          0\n",
              "2   ham   neon retreat\\r\\nho ho ho  we  re around to th...          0\n",
              "3  spam   photoshop  windows  office  cheap  main trend...          1\n",
              "4   ham    indian springs\\r\\nthis deal is to book the t...          0"
            ],
            "text/html": [
              "\n",
              "  <div id=\"df-9d08b420-ffa8-429c-951e-4d3a06762e3d\">\n",
              "    <div class=\"colab-df-container\">\n",
              "      <div>\n",
              "<style scoped>\n",
              "    .dataframe tbody tr th:only-of-type {\n",
              "        vertical-align: middle;\n",
              "    }\n",
              "\n",
              "    .dataframe tbody tr th {\n",
              "        vertical-align: top;\n",
              "    }\n",
              "\n",
              "    .dataframe thead th {\n",
              "        text-align: right;\n",
              "    }\n",
              "</style>\n",
              "<table border=\"1\" class=\"dataframe\">\n",
              "  <thead>\n",
              "    <tr style=\"text-align: right;\">\n",
              "      <th></th>\n",
              "      <th>label</th>\n",
              "      <th>text</th>\n",
              "      <th>label_num</th>\n",
              "    </tr>\n",
              "  </thead>\n",
              "  <tbody>\n",
              "    <tr>\n",
              "      <th>0</th>\n",
              "      <td>ham</td>\n",
              "      <td>enron methanol  meter   \\r\\nthis is a follow ...</td>\n",
              "      <td>0</td>\n",
              "    </tr>\n",
              "    <tr>\n",
              "      <th>1</th>\n",
              "      <td>ham</td>\n",
              "      <td>hpl nom for january   \\r\\n see attached file ...</td>\n",
              "      <td>0</td>\n",
              "    </tr>\n",
              "    <tr>\n",
              "      <th>2</th>\n",
              "      <td>ham</td>\n",
              "      <td>neon retreat\\r\\nho ho ho  we  re around to th...</td>\n",
              "      <td>0</td>\n",
              "    </tr>\n",
              "    <tr>\n",
              "      <th>3</th>\n",
              "      <td>spam</td>\n",
              "      <td>photoshop  windows  office  cheap  main trend...</td>\n",
              "      <td>1</td>\n",
              "    </tr>\n",
              "    <tr>\n",
              "      <th>4</th>\n",
              "      <td>ham</td>\n",
              "      <td>indian springs\\r\\nthis deal is to book the t...</td>\n",
              "      <td>0</td>\n",
              "    </tr>\n",
              "  </tbody>\n",
              "</table>\n",
              "</div>\n",
              "      <button class=\"colab-df-convert\" onclick=\"convertToInteractive('df-9d08b420-ffa8-429c-951e-4d3a06762e3d')\"\n",
              "              title=\"Convert this dataframe to an interactive table.\"\n",
              "              style=\"display:none;\">\n",
              "        \n",
              "  <svg xmlns=\"http://www.w3.org/2000/svg\" height=\"24px\"viewBox=\"0 0 24 24\"\n",
              "       width=\"24px\">\n",
              "    <path d=\"M0 0h24v24H0V0z\" fill=\"none\"/>\n",
              "    <path d=\"M18.56 5.44l.94 2.06.94-2.06 2.06-.94-2.06-.94-.94-2.06-.94 2.06-2.06.94zm-11 1L8.5 8.5l.94-2.06 2.06-.94-2.06-.94L8.5 2.5l-.94 2.06-2.06.94zm10 10l.94 2.06.94-2.06 2.06-.94-2.06-.94-.94-2.06-.94 2.06-2.06.94z\"/><path d=\"M17.41 7.96l-1.37-1.37c-.4-.4-.92-.59-1.43-.59-.52 0-1.04.2-1.43.59L10.3 9.45l-7.72 7.72c-.78.78-.78 2.05 0 2.83L4 21.41c.39.39.9.59 1.41.59.51 0 1.02-.2 1.41-.59l7.78-7.78 2.81-2.81c.8-.78.8-2.07 0-2.86zM5.41 20L4 18.59l7.72-7.72 1.47 1.35L5.41 20z\"/>\n",
              "  </svg>\n",
              "      </button>\n",
              "      \n",
              "  <style>\n",
              "    .colab-df-container {\n",
              "      display:flex;\n",
              "      flex-wrap:wrap;\n",
              "      gap: 12px;\n",
              "    }\n",
              "\n",
              "    .colab-df-convert {\n",
              "      background-color: #E8F0FE;\n",
              "      border: none;\n",
              "      border-radius: 50%;\n",
              "      cursor: pointer;\n",
              "      display: none;\n",
              "      fill: #1967D2;\n",
              "      height: 32px;\n",
              "      padding: 0 0 0 0;\n",
              "      width: 32px;\n",
              "    }\n",
              "\n",
              "    .colab-df-convert:hover {\n",
              "      background-color: #E2EBFA;\n",
              "      box-shadow: 0px 1px 2px rgba(60, 64, 67, 0.3), 0px 1px 3px 1px rgba(60, 64, 67, 0.15);\n",
              "      fill: #174EA6;\n",
              "    }\n",
              "\n",
              "    [theme=dark] .colab-df-convert {\n",
              "      background-color: #3B4455;\n",
              "      fill: #D2E3FC;\n",
              "    }\n",
              "\n",
              "    [theme=dark] .colab-df-convert:hover {\n",
              "      background-color: #434B5C;\n",
              "      box-shadow: 0px 1px 3px 1px rgba(0, 0, 0, 0.15);\n",
              "      filter: drop-shadow(0px 1px 2px rgba(0, 0, 0, 0.3));\n",
              "      fill: #FFFFFF;\n",
              "    }\n",
              "  </style>\n",
              "\n",
              "      <script>\n",
              "        const buttonEl =\n",
              "          document.querySelector('#df-9d08b420-ffa8-429c-951e-4d3a06762e3d button.colab-df-convert');\n",
              "        buttonEl.style.display =\n",
              "          google.colab.kernel.accessAllowed ? 'block' : 'none';\n",
              "\n",
              "        async function convertToInteractive(key) {\n",
              "          const element = document.querySelector('#df-9d08b420-ffa8-429c-951e-4d3a06762e3d');\n",
              "          const dataTable =\n",
              "            await google.colab.kernel.invokeFunction('convertToInteractive',\n",
              "                                                     [key], {});\n",
              "          if (!dataTable) return;\n",
              "\n",
              "          const docLinkHtml = 'Like what you see? Visit the ' +\n",
              "            '<a target=\"_blank\" href=https://colab.research.google.com/notebooks/data_table.ipynb>data table notebook</a>'\n",
              "            + ' to learn more about interactive tables.';\n",
              "          element.innerHTML = '';\n",
              "          dataTable['output_type'] = 'display_data';\n",
              "          await google.colab.output.renderOutput(dataTable, element);\n",
              "          const docLink = document.createElement('div');\n",
              "          docLink.innerHTML = docLinkHtml;\n",
              "          element.appendChild(docLink);\n",
              "        }\n",
              "      </script>\n",
              "    </div>\n",
              "  </div>\n",
              "  "
            ]
          },
          "metadata": {},
          "execution_count": 7
        }
      ],
      "source": [
        "# Numbers are deleted.\n",
        "df['text'].replace('[0-9]','',regex=True, inplace = True)\n",
        "df.head()"
      ]
    },
    {
      "cell_type": "code",
      "execution_count": 8,
      "id": "ce0158fe",
      "metadata": {
        "execution": {
          "iopub.execute_input": "2022-04-07T14:42:52.540770Z",
          "iopub.status.busy": "2022-04-07T14:42:52.535355Z",
          "iopub.status.idle": "2022-04-07T14:42:52.601171Z",
          "shell.execute_reply": "2022-04-07T14:42:52.601731Z",
          "shell.execute_reply.started": "2022-04-07T14:35:30.892826Z"
        },
        "papermill": {
          "duration": 0.108504,
          "end_time": "2022-04-07T14:42:52.601950",
          "exception": false,
          "start_time": "2022-04-07T14:42:52.493446",
          "status": "completed"
        },
        "tags": [],
        "colab": {
          "base_uri": "https://localhost:8080/",
          "height": 206
        },
        "id": "ce0158fe",
        "outputId": "28e4aa47-94ea-41e4-efaa-e90c043ae0a7"
      },
      "outputs": [
        {
          "output_type": "execute_result",
          "data": {
            "text/plain": [
              "    label                                               text  label_num\n",
              "100   ham   help brian who do i talk to about getting dar...          0\n",
              "101   ham   fw  ena origination track     original messag...          0\n",
              "102   ham   password resetthis is a generated email  do n...          0\n",
              "103  spam   lose    powerful weightloss now available whe...          1\n",
              "104  spam                  smart inksystemwww  compusoft  gr          1"
            ],
            "text/html": [
              "\n",
              "  <div id=\"df-46c1bc24-fa3e-4daa-b293-38a8ebf37747\">\n",
              "    <div class=\"colab-df-container\">\n",
              "      <div>\n",
              "<style scoped>\n",
              "    .dataframe tbody tr th:only-of-type {\n",
              "        vertical-align: middle;\n",
              "    }\n",
              "\n",
              "    .dataframe tbody tr th {\n",
              "        vertical-align: top;\n",
              "    }\n",
              "\n",
              "    .dataframe thead th {\n",
              "        text-align: right;\n",
              "    }\n",
              "</style>\n",
              "<table border=\"1\" class=\"dataframe\">\n",
              "  <thead>\n",
              "    <tr style=\"text-align: right;\">\n",
              "      <th></th>\n",
              "      <th>label</th>\n",
              "      <th>text</th>\n",
              "      <th>label_num</th>\n",
              "    </tr>\n",
              "  </thead>\n",
              "  <tbody>\n",
              "    <tr>\n",
              "      <th>100</th>\n",
              "      <td>ham</td>\n",
              "      <td>help brian who do i talk to about getting dar...</td>\n",
              "      <td>0</td>\n",
              "    </tr>\n",
              "    <tr>\n",
              "      <th>101</th>\n",
              "      <td>ham</td>\n",
              "      <td>fw  ena origination track     original messag...</td>\n",
              "      <td>0</td>\n",
              "    </tr>\n",
              "    <tr>\n",
              "      <th>102</th>\n",
              "      <td>ham</td>\n",
              "      <td>password resetthis is a generated email  do n...</td>\n",
              "      <td>0</td>\n",
              "    </tr>\n",
              "    <tr>\n",
              "      <th>103</th>\n",
              "      <td>spam</td>\n",
              "      <td>lose    powerful weightloss now available whe...</td>\n",
              "      <td>1</td>\n",
              "    </tr>\n",
              "    <tr>\n",
              "      <th>104</th>\n",
              "      <td>spam</td>\n",
              "      <td>smart inksystemwww  compusoft  gr</td>\n",
              "      <td>1</td>\n",
              "    </tr>\n",
              "  </tbody>\n",
              "</table>\n",
              "</div>\n",
              "      <button class=\"colab-df-convert\" onclick=\"convertToInteractive('df-46c1bc24-fa3e-4daa-b293-38a8ebf37747')\"\n",
              "              title=\"Convert this dataframe to an interactive table.\"\n",
              "              style=\"display:none;\">\n",
              "        \n",
              "  <svg xmlns=\"http://www.w3.org/2000/svg\" height=\"24px\"viewBox=\"0 0 24 24\"\n",
              "       width=\"24px\">\n",
              "    <path d=\"M0 0h24v24H0V0z\" fill=\"none\"/>\n",
              "    <path d=\"M18.56 5.44l.94 2.06.94-2.06 2.06-.94-2.06-.94-.94-2.06-.94 2.06-2.06.94zm-11 1L8.5 8.5l.94-2.06 2.06-.94-2.06-.94L8.5 2.5l-.94 2.06-2.06.94zm10 10l.94 2.06.94-2.06 2.06-.94-2.06-.94-.94-2.06-.94 2.06-2.06.94z\"/><path d=\"M17.41 7.96l-1.37-1.37c-.4-.4-.92-.59-1.43-.59-.52 0-1.04.2-1.43.59L10.3 9.45l-7.72 7.72c-.78.78-.78 2.05 0 2.83L4 21.41c.39.39.9.59 1.41.59.51 0 1.02-.2 1.41-.59l7.78-7.78 2.81-2.81c.8-.78.8-2.07 0-2.86zM5.41 20L4 18.59l7.72-7.72 1.47 1.35L5.41 20z\"/>\n",
              "  </svg>\n",
              "      </button>\n",
              "      \n",
              "  <style>\n",
              "    .colab-df-container {\n",
              "      display:flex;\n",
              "      flex-wrap:wrap;\n",
              "      gap: 12px;\n",
              "    }\n",
              "\n",
              "    .colab-df-convert {\n",
              "      background-color: #E8F0FE;\n",
              "      border: none;\n",
              "      border-radius: 50%;\n",
              "      cursor: pointer;\n",
              "      display: none;\n",
              "      fill: #1967D2;\n",
              "      height: 32px;\n",
              "      padding: 0 0 0 0;\n",
              "      width: 32px;\n",
              "    }\n",
              "\n",
              "    .colab-df-convert:hover {\n",
              "      background-color: #E2EBFA;\n",
              "      box-shadow: 0px 1px 2px rgba(60, 64, 67, 0.3), 0px 1px 3px 1px rgba(60, 64, 67, 0.15);\n",
              "      fill: #174EA6;\n",
              "    }\n",
              "\n",
              "    [theme=dark] .colab-df-convert {\n",
              "      background-color: #3B4455;\n",
              "      fill: #D2E3FC;\n",
              "    }\n",
              "\n",
              "    [theme=dark] .colab-df-convert:hover {\n",
              "      background-color: #434B5C;\n",
              "      box-shadow: 0px 1px 3px 1px rgba(0, 0, 0, 0.15);\n",
              "      filter: drop-shadow(0px 1px 2px rgba(0, 0, 0, 0.3));\n",
              "      fill: #FFFFFF;\n",
              "    }\n",
              "  </style>\n",
              "\n",
              "      <script>\n",
              "        const buttonEl =\n",
              "          document.querySelector('#df-46c1bc24-fa3e-4daa-b293-38a8ebf37747 button.colab-df-convert');\n",
              "        buttonEl.style.display =\n",
              "          google.colab.kernel.accessAllowed ? 'block' : 'none';\n",
              "\n",
              "        async function convertToInteractive(key) {\n",
              "          const element = document.querySelector('#df-46c1bc24-fa3e-4daa-b293-38a8ebf37747');\n",
              "          const dataTable =\n",
              "            await google.colab.kernel.invokeFunction('convertToInteractive',\n",
              "                                                     [key], {});\n",
              "          if (!dataTable) return;\n",
              "\n",
              "          const docLinkHtml = 'Like what you see? Visit the ' +\n",
              "            '<a target=\"_blank\" href=https://colab.research.google.com/notebooks/data_table.ipynb>data table notebook</a>'\n",
              "            + ' to learn more about interactive tables.';\n",
              "          element.innerHTML = '';\n",
              "          dataTable['output_type'] = 'display_data';\n",
              "          await google.colab.output.renderOutput(dataTable, element);\n",
              "          const docLink = document.createElement('div');\n",
              "          docLink.innerHTML = docLinkHtml;\n",
              "          element.appendChild(docLink);\n",
              "        }\n",
              "      </script>\n",
              "    </div>\n",
              "  </div>\n",
              "  "
            ]
          },
          "metadata": {},
          "execution_count": 8
        }
      ],
      "source": [
        "# remove newline\n",
        "df['text'].replace('\\r','',regex=True, inplace = True)\n",
        "df['text'].replace('\\n','',regex=True, inplace = True)\n",
        "df[100:105]"
      ]
    },
    {
      "cell_type": "code",
      "execution_count": 9,
      "id": "c7293eb6",
      "metadata": {
        "execution": {
          "iopub.execute_input": "2022-04-07T14:42:52.710798Z",
          "iopub.status.busy": "2022-04-07T14:42:52.699854Z",
          "iopub.status.idle": "2022-04-07T14:42:52.963679Z",
          "shell.execute_reply": "2022-04-07T14:42:52.962881Z",
          "shell.execute_reply.started": "2022-04-07T14:35:30.965616Z"
        },
        "papermill": {
          "duration": 0.332903,
          "end_time": "2022-04-07T14:42:52.963845",
          "exception": false,
          "start_time": "2022-04-07T14:42:52.630942",
          "status": "completed"
        },
        "tags": [],
        "colab": {
          "base_uri": "https://localhost:8080/",
          "height": 206
        },
        "id": "c7293eb6",
        "outputId": "5c39b87c-3f3c-4813-e31f-c7bf281f63ce"
      },
      "outputs": [
        {
          "output_type": "execute_result",
          "data": {
            "text/plain": [
              "    label                                               text  label_num\n",
              "100   ham   help brian who do i talk to about getting dar...          0\n",
              "101   ham   fw ena origination track original message fro...          0\n",
              "102   ham   password resetthis is a generated email do no...          0\n",
              "103  spam   lose powerful weightloss now available where ...          1\n",
              "104  spam                    smart inksystemwww compusoft gr          1"
            ],
            "text/html": [
              "\n",
              "  <div id=\"df-a881dedf-7459-4272-bab8-0726b574359f\">\n",
              "    <div class=\"colab-df-container\">\n",
              "      <div>\n",
              "<style scoped>\n",
              "    .dataframe tbody tr th:only-of-type {\n",
              "        vertical-align: middle;\n",
              "    }\n",
              "\n",
              "    .dataframe tbody tr th {\n",
              "        vertical-align: top;\n",
              "    }\n",
              "\n",
              "    .dataframe thead th {\n",
              "        text-align: right;\n",
              "    }\n",
              "</style>\n",
              "<table border=\"1\" class=\"dataframe\">\n",
              "  <thead>\n",
              "    <tr style=\"text-align: right;\">\n",
              "      <th></th>\n",
              "      <th>label</th>\n",
              "      <th>text</th>\n",
              "      <th>label_num</th>\n",
              "    </tr>\n",
              "  </thead>\n",
              "  <tbody>\n",
              "    <tr>\n",
              "      <th>100</th>\n",
              "      <td>ham</td>\n",
              "      <td>help brian who do i talk to about getting dar...</td>\n",
              "      <td>0</td>\n",
              "    </tr>\n",
              "    <tr>\n",
              "      <th>101</th>\n",
              "      <td>ham</td>\n",
              "      <td>fw ena origination track original message fro...</td>\n",
              "      <td>0</td>\n",
              "    </tr>\n",
              "    <tr>\n",
              "      <th>102</th>\n",
              "      <td>ham</td>\n",
              "      <td>password resetthis is a generated email do no...</td>\n",
              "      <td>0</td>\n",
              "    </tr>\n",
              "    <tr>\n",
              "      <th>103</th>\n",
              "      <td>spam</td>\n",
              "      <td>lose powerful weightloss now available where ...</td>\n",
              "      <td>1</td>\n",
              "    </tr>\n",
              "    <tr>\n",
              "      <th>104</th>\n",
              "      <td>spam</td>\n",
              "      <td>smart inksystemwww compusoft gr</td>\n",
              "      <td>1</td>\n",
              "    </tr>\n",
              "  </tbody>\n",
              "</table>\n",
              "</div>\n",
              "      <button class=\"colab-df-convert\" onclick=\"convertToInteractive('df-a881dedf-7459-4272-bab8-0726b574359f')\"\n",
              "              title=\"Convert this dataframe to an interactive table.\"\n",
              "              style=\"display:none;\">\n",
              "        \n",
              "  <svg xmlns=\"http://www.w3.org/2000/svg\" height=\"24px\"viewBox=\"0 0 24 24\"\n",
              "       width=\"24px\">\n",
              "    <path d=\"M0 0h24v24H0V0z\" fill=\"none\"/>\n",
              "    <path d=\"M18.56 5.44l.94 2.06.94-2.06 2.06-.94-2.06-.94-.94-2.06-.94 2.06-2.06.94zm-11 1L8.5 8.5l.94-2.06 2.06-.94-2.06-.94L8.5 2.5l-.94 2.06-2.06.94zm10 10l.94 2.06.94-2.06 2.06-.94-2.06-.94-.94-2.06-.94 2.06-2.06.94z\"/><path d=\"M17.41 7.96l-1.37-1.37c-.4-.4-.92-.59-1.43-.59-.52 0-1.04.2-1.43.59L10.3 9.45l-7.72 7.72c-.78.78-.78 2.05 0 2.83L4 21.41c.39.39.9.59 1.41.59.51 0 1.02-.2 1.41-.59l7.78-7.78 2.81-2.81c.8-.78.8-2.07 0-2.86zM5.41 20L4 18.59l7.72-7.72 1.47 1.35L5.41 20z\"/>\n",
              "  </svg>\n",
              "      </button>\n",
              "      \n",
              "  <style>\n",
              "    .colab-df-container {\n",
              "      display:flex;\n",
              "      flex-wrap:wrap;\n",
              "      gap: 12px;\n",
              "    }\n",
              "\n",
              "    .colab-df-convert {\n",
              "      background-color: #E8F0FE;\n",
              "      border: none;\n",
              "      border-radius: 50%;\n",
              "      cursor: pointer;\n",
              "      display: none;\n",
              "      fill: #1967D2;\n",
              "      height: 32px;\n",
              "      padding: 0 0 0 0;\n",
              "      width: 32px;\n",
              "    }\n",
              "\n",
              "    .colab-df-convert:hover {\n",
              "      background-color: #E2EBFA;\n",
              "      box-shadow: 0px 1px 2px rgba(60, 64, 67, 0.3), 0px 1px 3px 1px rgba(60, 64, 67, 0.15);\n",
              "      fill: #174EA6;\n",
              "    }\n",
              "\n",
              "    [theme=dark] .colab-df-convert {\n",
              "      background-color: #3B4455;\n",
              "      fill: #D2E3FC;\n",
              "    }\n",
              "\n",
              "    [theme=dark] .colab-df-convert:hover {\n",
              "      background-color: #434B5C;\n",
              "      box-shadow: 0px 1px 3px 1px rgba(0, 0, 0, 0.15);\n",
              "      filter: drop-shadow(0px 1px 2px rgba(0, 0, 0, 0.3));\n",
              "      fill: #FFFFFF;\n",
              "    }\n",
              "  </style>\n",
              "\n",
              "      <script>\n",
              "        const buttonEl =\n",
              "          document.querySelector('#df-a881dedf-7459-4272-bab8-0726b574359f button.colab-df-convert');\n",
              "        buttonEl.style.display =\n",
              "          google.colab.kernel.accessAllowed ? 'block' : 'none';\n",
              "\n",
              "        async function convertToInteractive(key) {\n",
              "          const element = document.querySelector('#df-a881dedf-7459-4272-bab8-0726b574359f');\n",
              "          const dataTable =\n",
              "            await google.colab.kernel.invokeFunction('convertToInteractive',\n",
              "                                                     [key], {});\n",
              "          if (!dataTable) return;\n",
              "\n",
              "          const docLinkHtml = 'Like what you see? Visit the ' +\n",
              "            '<a target=\"_blank\" href=https://colab.research.google.com/notebooks/data_table.ipynb>data table notebook</a>'\n",
              "            + ' to learn more about interactive tables.';\n",
              "          element.innerHTML = '';\n",
              "          dataTable['output_type'] = 'display_data';\n",
              "          await google.colab.output.renderOutput(dataTable, element);\n",
              "          const docLink = document.createElement('div');\n",
              "          docLink.innerHTML = docLinkHtml;\n",
              "          element.appendChild(docLink);\n",
              "        }\n",
              "      </script>\n",
              "    </div>\n",
              "  </div>\n",
              "  "
            ]
          },
          "metadata": {},
          "execution_count": 9
        }
      ],
      "source": [
        "# remove multiple whitespace\n",
        "df['text'] = df['text'].replace(r' +', ' ', regex=True)\n",
        "df[100:105]"
      ]
    },
    {
      "cell_type": "code",
      "execution_count": 10,
      "id": "2b23fbc5",
      "metadata": {
        "execution": {
          "iopub.execute_input": "2022-04-07T14:42:53.023193Z",
          "iopub.status.busy": "2022-04-07T14:42:53.022367Z",
          "iopub.status.idle": "2022-04-07T14:42:53.025502Z",
          "shell.execute_reply": "2022-04-07T14:42:53.024837Z",
          "shell.execute_reply.started": "2022-04-07T14:35:31.268341Z"
        },
        "jupyter": {
          "source_hidden": true
        },
        "papermill": {
          "duration": 0.034992,
          "end_time": "2022-04-07T14:42:53.025670",
          "exception": false,
          "start_time": "2022-04-07T14:42:52.990678",
          "status": "completed"
        },
        "tags": [],
        "id": "2b23fbc5"
      },
      "outputs": [],
      "source": [
        "# from sklearn.model_selection import train_test_split as tts\n",
        "# from sklearn.feature_extraction.text import CountVectorizer"
      ]
    },
    {
      "cell_type": "code",
      "execution_count": 11,
      "id": "88b285f0",
      "metadata": {
        "execution": {
          "iopub.execute_input": "2022-04-07T14:42:53.085396Z",
          "iopub.status.busy": "2022-04-07T14:42:53.084538Z",
          "iopub.status.idle": "2022-04-07T14:42:53.088109Z",
          "shell.execute_reply": "2022-04-07T14:42:53.087397Z",
          "shell.execute_reply.started": "2022-04-07T14:35:31.273676Z"
        },
        "jupyter": {
          "source_hidden": true
        },
        "papermill": {
          "duration": 0.035153,
          "end_time": "2022-04-07T14:42:53.088324",
          "exception": false,
          "start_time": "2022-04-07T14:42:53.053171",
          "status": "completed"
        },
        "tags": [],
        "id": "88b285f0"
      },
      "outputs": [],
      "source": [
        "# vectorizer = CountVectorizer()\n",
        "# X_train,X_test, y_train,y_test = tts(df['text'],df['label_num'], train_size=0.8, random_state=42)\n",
        "# X_train = vectorizer.fit_transform(X_train)\n",
        "# X_test = vectorizer.transform(X_test)"
      ]
    },
    {
      "cell_type": "code",
      "execution_count": 12,
      "id": "1ce8f340",
      "metadata": {
        "execution": {
          "iopub.execute_input": "2022-04-07T14:42:53.151002Z",
          "iopub.status.busy": "2022-04-07T14:42:53.150219Z",
          "iopub.status.idle": "2022-04-07T14:42:55.466368Z",
          "shell.execute_reply": "2022-04-07T14:42:55.465361Z",
          "shell.execute_reply.started": "2022-04-07T14:35:31.285815Z"
        },
        "papermill": {
          "duration": 2.351143,
          "end_time": "2022-04-07T14:42:55.466610",
          "exception": false,
          "start_time": "2022-04-07T14:42:53.115467",
          "status": "completed"
        },
        "tags": [],
        "colab": {
          "base_uri": "https://localhost:8080/"
        },
        "id": "1ce8f340",
        "outputId": "639d37ae-8e53-4342-a05e-fa9fcd509054"
      },
      "outputs": [
        {
          "output_type": "stream",
          "name": "stdout",
          "text": [
            "Ditemukan 65204 token unik\n",
            "Ukuran tensor  (5171, 250)\n"
          ]
        }
      ],
      "source": [
        "from keras.preprocessing.text import Tokenizer\n",
        "from keras.preprocessing.sequence import pad_sequences\n",
        "\n",
        "MAX_NB_WORDS = 50000\n",
        "MAX_SEQUENCE_LENGTH = 250\n",
        "EMBEDDING_DIM = 100\n",
        "\n",
        "tokenizer = Tokenizer(num_words=MAX_NB_WORDS, filters='!\"#$%&()*+,-:;<=>?@[\\]^_`{|}~', lower=True)\n",
        "tokenizer.fit_on_texts(df['text'].values)\n",
        "word_index = tokenizer.word_index\n",
        "print('Ditemukan %s token unik' %len(word_index))\n",
        "\n",
        "X = tokenizer.texts_to_sequences(df['text'].values)\n",
        "X = pad_sequences(X, maxlen=MAX_SEQUENCE_LENGTH)\n",
        "print(\"Ukuran tensor \", X.shape)"
      ]
    },
    {
      "cell_type": "code",
      "execution_count": 13,
      "id": "bbe05ec8",
      "metadata": {
        "execution": {
          "iopub.execute_input": "2022-04-07T14:42:55.528629Z",
          "iopub.status.busy": "2022-04-07T14:42:55.527846Z",
          "iopub.status.idle": "2022-04-07T14:42:55.533779Z",
          "shell.execute_reply": "2022-04-07T14:42:55.534249Z",
          "shell.execute_reply.started": "2022-04-07T14:35:33.265282Z"
        },
        "papermill": {
          "duration": 0.039835,
          "end_time": "2022-04-07T14:42:55.534453",
          "exception": false,
          "start_time": "2022-04-07T14:42:55.494618",
          "status": "completed"
        },
        "tags": [],
        "colab": {
          "base_uri": "https://localhost:8080/"
        },
        "id": "bbe05ec8",
        "outputId": "c4bdbdaa-5fc0-4aad-ba26-51079c07fd11"
      },
      "outputs": [
        {
          "output_type": "stream",
          "name": "stdout",
          "text": [
            "Shape label (5171, 2)\n"
          ]
        }
      ],
      "source": [
        "Y = pd.get_dummies(df['label_num']).values\n",
        "print('Shape label', Y.shape)"
      ]
    },
    {
      "cell_type": "code",
      "execution_count": 14,
      "id": "028393f6",
      "metadata": {
        "execution": {
          "iopub.execute_input": "2022-04-07T14:42:55.596505Z",
          "iopub.status.busy": "2022-04-07T14:42:55.595395Z",
          "iopub.status.idle": "2022-04-07T14:42:55.597232Z",
          "shell.execute_reply": "2022-04-07T14:42:55.597732Z",
          "shell.execute_reply.started": "2022-04-07T14:35:33.276156Z"
        },
        "papermill": {
          "duration": 0.035766,
          "end_time": "2022-04-07T14:42:55.597929",
          "exception": false,
          "start_time": "2022-04-07T14:42:55.562163",
          "status": "completed"
        },
        "tags": [],
        "id": "028393f6"
      },
      "outputs": [],
      "source": [
        "from sklearn.model_selection import train_test_split as tts"
      ]
    },
    {
      "cell_type": "code",
      "execution_count": 15,
      "id": "79ed9421",
      "metadata": {
        "execution": {
          "iopub.execute_input": "2022-04-07T14:42:55.661704Z",
          "iopub.status.busy": "2022-04-07T14:42:55.660948Z",
          "iopub.status.idle": "2022-04-07T14:42:55.671014Z",
          "shell.execute_reply": "2022-04-07T14:42:55.670418Z",
          "shell.execute_reply.started": "2022-04-07T14:35:33.284670Z"
        },
        "papermill": {
          "duration": 0.045484,
          "end_time": "2022-04-07T14:42:55.671186",
          "exception": false,
          "start_time": "2022-04-07T14:42:55.625702",
          "status": "completed"
        },
        "tags": [],
        "colab": {
          "base_uri": "https://localhost:8080/"
        },
        "id": "79ed9421",
        "outputId": "bb8ebec2-e7cc-456e-a524-9ee52d40b97a"
      },
      "outputs": [
        {
          "output_type": "execute_result",
          "data": {
            "text/plain": [
              "((4653, 250), (518, 250), (4653, 2), (518, 2))"
            ]
          },
          "metadata": {},
          "execution_count": 15
        }
      ],
      "source": [
        "X_train,X_test, y_train,y_test = tts(X,Y, train_size=0.9, random_state=42)\n",
        "X_train.shape,X_test.shape, y_train.shape,y_test.shape"
      ]
    },
    {
      "cell_type": "code",
      "execution_count": 16,
      "id": "f905cab9",
      "metadata": {
        "execution": {
          "iopub.execute_input": "2022-04-07T14:42:55.737250Z",
          "iopub.status.busy": "2022-04-07T14:42:55.736423Z",
          "iopub.status.idle": "2022-04-07T15:00:22.622601Z",
          "shell.execute_reply": "2022-04-07T15:00:22.621911Z"
        },
        "papermill": {
          "duration": 1046.922924,
          "end_time": "2022-04-07T15:00:22.622779",
          "exception": false,
          "start_time": "2022-04-07T14:42:55.699855",
          "status": "completed"
        },
        "tags": [],
        "colab": {
          "base_uri": "https://localhost:8080/"
        },
        "id": "f905cab9",
        "outputId": "989e65cb-3cac-4720-8610-80bb6bfb3bb1"
      },
      "outputs": [
        {
          "output_type": "stream",
          "name": "stdout",
          "text": [
            "Epoch 1/5\n",
            "210/210 [==============================] - 120s 556ms/step - loss: 0.2743 - accuracy: 0.8694 - val_loss: 0.1470 - val_accuracy: 0.9356\n",
            "Epoch 2/5\n",
            "210/210 [==============================] - 109s 520ms/step - loss: 0.0526 - accuracy: 0.9811 - val_loss: 0.0620 - val_accuracy: 0.9785\n",
            "Epoch 3/5\n",
            "210/210 [==============================] - 110s 522ms/step - loss: 0.0176 - accuracy: 0.9947 - val_loss: 0.0486 - val_accuracy: 0.9807\n",
            "Epoch 4/5\n",
            "210/210 [==============================] - 108s 516ms/step - loss: 0.0063 - accuracy: 0.9979 - val_loss: 0.0636 - val_accuracy: 0.9807\n",
            "Epoch 5/5\n",
            "210/210 [==============================] - 108s 514ms/step - loss: 0.0018 - accuracy: 0.9995 - val_loss: 0.0659 - val_accuracy: 0.9807\n"
          ]
        },
        {
          "output_type": "execute_result",
          "data": {
            "text/plain": [
              "<keras.callbacks.History at 0x7f9998eeba50>"
            ]
          },
          "metadata": {},
          "execution_count": 16
        }
      ],
      "source": [
        "from keras.models import Sequential\n",
        "from keras.layers import Embedding, SpatialDropout1D, LSTM, Dense\n",
        "\n",
        "model = Sequential()\n",
        "model.add(Embedding(MAX_NB_WORDS, EMBEDDING_DIM, input_length=X.shape[1]))\n",
        "model.add(SpatialDropout1D(0.5))\n",
        "model.add(LSTM(100,dropout=0.2, recurrent_dropout=0.2))\n",
        "model.add(Dense(2, activation='sigmoid'))\n",
        "model.compile(loss='categorical_crossentropy', optimizer='adam', metrics=['accuracy'])\n",
        "\n",
        "epochs = 5\n",
        "\n",
        "batch_size = 20\n",
        "\n",
        "model.fit(X_train, y_train, epochs=epochs, batch_size=batch_size, validation_split=0.1)"
      ]
    },
    {
      "cell_type": "code",
      "execution_count": 17,
      "id": "fdd66332",
      "metadata": {
        "execution": {
          "iopub.execute_input": "2022-04-07T15:00:23.459054Z",
          "iopub.status.busy": "2022-04-07T15:00:23.457952Z",
          "iopub.status.idle": "2022-04-07T15:00:23.462927Z",
          "shell.execute_reply": "2022-04-07T15:00:23.462023Z"
        },
        "papermill": {
          "duration": 0.42283,
          "end_time": "2022-04-07T15:00:23.463148",
          "exception": false,
          "start_time": "2022-04-07T15:00:23.040318",
          "status": "completed"
        },
        "tags": [],
        "colab": {
          "base_uri": "https://localhost:8080/"
        },
        "id": "fdd66332",
        "outputId": "f483a647-54b2-498c-a8b8-44e104819922"
      },
      "outputs": [
        {
          "output_type": "stream",
          "name": "stdout",
          "text": [
            "Model: \"sequential\"\n",
            "_________________________________________________________________\n",
            " Layer (type)                Output Shape              Param #   \n",
            "=================================================================\n",
            " embedding (Embedding)       (None, 250, 100)          5000000   \n",
            "                                                                 \n",
            " spatial_dropout1d (SpatialD  (None, 250, 100)         0         \n",
            " ropout1D)                                                       \n",
            "                                                                 \n",
            " lstm (LSTM)                 (None, 100)               80400     \n",
            "                                                                 \n",
            " dense (Dense)               (None, 2)                 202       \n",
            "                                                                 \n",
            "=================================================================\n",
            "Total params: 5,080,602\n",
            "Trainable params: 5,080,602\n",
            "Non-trainable params: 0\n",
            "_________________________________________________________________\n"
          ]
        }
      ],
      "source": [
        "model.summary()"
      ]
    },
    {
      "cell_type": "code",
      "execution_count": 18,
      "id": "12951cf0",
      "metadata": {
        "execution": {
          "iopub.execute_input": "2022-04-07T15:00:24.307531Z",
          "iopub.status.busy": "2022-04-07T15:00:24.306760Z",
          "iopub.status.idle": "2022-04-07T15:15:00.660695Z",
          "shell.execute_reply": "2022-04-07T15:15:00.659759Z"
        },
        "papermill": {
          "duration": 876.781564,
          "end_time": "2022-04-07T15:15:00.660931",
          "exception": false,
          "start_time": "2022-04-07T15:00:23.879367",
          "status": "completed"
        },
        "tags": [],
        "colab": {
          "base_uri": "https://localhost:8080/"
        },
        "id": "12951cf0",
        "outputId": "c26ac5f8-2e31-4a8b-eb21-f33d87886936"
      },
      "outputs": [
        {
          "output_type": "stream",
          "name": "stdout",
          "text": [
            "Epoch 1/5\n",
            "187/187 [==============================] - 101s 521ms/step - loss: 0.2725 - accuracy: 0.8716 - val_loss: 0.1044 - val_accuracy: 0.9686\n",
            "Epoch 2/5\n",
            "187/187 [==============================] - 97s 518ms/step - loss: 0.0668 - accuracy: 0.9790 - val_loss: 0.0924 - val_accuracy: 0.9710\n",
            "Epoch 3/5\n",
            "187/187 [==============================] - 97s 518ms/step - loss: 0.0292 - accuracy: 0.9933 - val_loss: 0.0671 - val_accuracy: 0.9734\n",
            "Epoch 4/5\n",
            "187/187 [==============================] - 96s 516ms/step - loss: 0.0089 - accuracy: 0.9979 - val_loss: 0.0595 - val_accuracy: 0.9831\n",
            "Epoch 5/5\n",
            "187/187 [==============================] - 97s 519ms/step - loss: 0.0031 - accuracy: 0.9997 - val_loss: 0.0644 - val_accuracy: 0.9831\n"
          ]
        },
        {
          "output_type": "execute_result",
          "data": {
            "text/plain": [
              "<keras.callbacks.History at 0x7f99943b91d0>"
            ]
          },
          "metadata": {},
          "execution_count": 18
        }
      ],
      "source": [
        "X_train,X_test, y_train,y_test = tts(X,Y, train_size=0.8, random_state=42)\n",
        "X_train.shape,X_test.shape, y_train.shape,y_test.shape\n",
        "\n",
        "model = Sequential()\n",
        "model.add(Embedding(MAX_NB_WORDS, EMBEDDING_DIM, input_length=X.shape[1]))\n",
        "model.add(SpatialDropout1D(0.5))\n",
        "model.add(LSTM(100,dropout=0.2, recurrent_dropout=0.2))\n",
        "model.add(Dense(2, activation='sigmoid'))\n",
        "model.compile(loss='categorical_crossentropy', optimizer='adam', metrics=['accuracy'])\n",
        "\n",
        "epochs = 5\n",
        "\n",
        "batch_size = 20\n",
        "\n",
        "model.fit(X_train, y_train, epochs=epochs, batch_size=batch_size, validation_split=0.1)"
      ]
    },
    {
      "cell_type": "code",
      "execution_count": 19,
      "id": "9816cb86",
      "metadata": {
        "execution": {
          "iopub.execute_input": "2022-04-07T15:15:02.312948Z",
          "iopub.status.busy": "2022-04-07T15:15:02.312052Z",
          "iopub.status.idle": "2022-04-07T15:28:03.201664Z",
          "shell.execute_reply": "2022-04-07T15:28:03.202297Z"
        },
        "papermill": {
          "duration": 781.737669,
          "end_time": "2022-04-07T15:28:03.202534",
          "exception": false,
          "start_time": "2022-04-07T15:15:01.464865",
          "status": "completed"
        },
        "tags": [],
        "colab": {
          "base_uri": "https://localhost:8080/"
        },
        "id": "9816cb86",
        "outputId": "27e2ccbe-1100-48bd-ecce-3374b7e4e6cb"
      },
      "outputs": [
        {
          "output_type": "stream",
          "name": "stdout",
          "text": [
            "Epoch 1/5\n",
            "163/163 [==============================] - 89s 531ms/step - loss: 0.3289 - accuracy: 0.8407 - val_loss: 0.1293 - val_accuracy: 0.9448\n",
            "Epoch 2/5\n",
            "163/163 [==============================] - 84s 518ms/step - loss: 0.0603 - accuracy: 0.9782 - val_loss: 0.0886 - val_accuracy: 0.9669\n",
            "Epoch 3/5\n",
            "163/163 [==============================] - 84s 517ms/step - loss: 0.0188 - accuracy: 0.9948 - val_loss: 0.0725 - val_accuracy: 0.9807\n",
            "Epoch 4/5\n",
            "163/163 [==============================] - 85s 520ms/step - loss: 0.0101 - accuracy: 0.9972 - val_loss: 0.0975 - val_accuracy: 0.9696\n",
            "Epoch 5/5\n",
            "163/163 [==============================] - 85s 519ms/step - loss: 0.0050 - accuracy: 0.9988 - val_loss: 0.0790 - val_accuracy: 0.9862\n"
          ]
        },
        {
          "output_type": "execute_result",
          "data": {
            "text/plain": [
              "<keras.callbacks.History at 0x7f9993cac690>"
            ]
          },
          "metadata": {},
          "execution_count": 19
        }
      ],
      "source": [
        "X_train,X_test, y_train,y_test = tts(X,Y, train_size=0.7, random_state=42)\n",
        "X_train.shape,X_test.shape, y_train.shape,y_test.shape\n",
        "\n",
        "model = Sequential()\n",
        "model.add(Embedding(MAX_NB_WORDS, EMBEDDING_DIM, input_length=X.shape[1]))\n",
        "model.add(SpatialDropout1D(0.5))\n",
        "model.add(LSTM(100,dropout=0.2, recurrent_dropout=0.2))\n",
        "model.add(Dense(2, activation='sigmoid'))\n",
        "model.compile(loss='categorical_crossentropy', optimizer='adam', metrics=['accuracy'])\n",
        "\n",
        "epochs = 5\n",
        "\n",
        "batch_size = 20\n",
        "\n",
        "model.fit(X_train, y_train, epochs=epochs, batch_size=batch_size, validation_split=0.1)"
      ]
    },
    {
      "cell_type": "code",
      "execution_count": 20,
      "id": "9d23066d",
      "metadata": {
        "execution": {
          "iopub.execute_input": "2022-04-07T15:28:05.342677Z",
          "iopub.status.busy": "2022-04-07T15:28:05.341914Z",
          "iopub.status.idle": "2022-04-07T15:37:10.132518Z",
          "shell.execute_reply": "2022-04-07T15:37:10.133075Z"
        },
        "papermill": {
          "duration": 545.865275,
          "end_time": "2022-04-07T15:37:10.133305",
          "exception": false,
          "start_time": "2022-04-07T15:28:04.268030",
          "status": "completed"
        },
        "tags": [],
        "colab": {
          "base_uri": "https://localhost:8080/"
        },
        "id": "9d23066d",
        "outputId": "3b6c3e9f-057c-4854-d9d6-56cfdd8e9d80"
      },
      "outputs": [
        {
          "output_type": "stream",
          "name": "stdout",
          "text": [
            "Epoch 1/5\n",
            "117/117 [==============================] - 64s 521ms/step - loss: 0.3982 - accuracy: 0.8130 - val_loss: 0.1753 - val_accuracy: 0.9305\n",
            "Epoch 2/5\n",
            "117/117 [==============================] - 60s 517ms/step - loss: 0.0754 - accuracy: 0.9746 - val_loss: 0.0982 - val_accuracy: 0.9575\n",
            "Epoch 3/5\n",
            "117/117 [==============================] - 61s 518ms/step - loss: 0.0229 - accuracy: 0.9936 - val_loss: 0.0936 - val_accuracy: 0.9691\n",
            "Epoch 4/5\n",
            "117/117 [==============================] - 61s 518ms/step - loss: 0.0086 - accuracy: 0.9983 - val_loss: 0.1155 - val_accuracy: 0.9575\n",
            "Epoch 5/5\n",
            "117/117 [==============================] - 61s 520ms/step - loss: 0.0060 - accuracy: 0.9987 - val_loss: 0.1268 - val_accuracy: 0.9537\n"
          ]
        },
        {
          "output_type": "execute_result",
          "data": {
            "text/plain": [
              "<keras.callbacks.History at 0x7f99914a18d0>"
            ]
          },
          "metadata": {},
          "execution_count": 20
        }
      ],
      "source": [
        "X_train,X_test, y_train,y_test = tts(X,Y, train_size=0.5, random_state=42)\n",
        "X_train.shape,X_test.shape, y_train.shape,y_test.shape\n",
        "\n",
        "model = Sequential()\n",
        "model.add(Embedding(MAX_NB_WORDS, EMBEDDING_DIM, input_length=X.shape[1]))\n",
        "model.add(SpatialDropout1D(0.5))\n",
        "model.add(LSTM(100,dropout=0.2, recurrent_dropout=0.2))\n",
        "model.add(Dense(2, activation='sigmoid'))\n",
        "model.compile(loss='categorical_crossentropy', optimizer='adam', metrics=['accuracy'])\n",
        "\n",
        "epochs = 5\n",
        "\n",
        "batch_size = 20\n",
        "\n",
        "model.fit(X_train, y_train, epochs=epochs, batch_size=batch_size, validation_split=0.1)"
      ]
    }
  ],
  "metadata": {
    "kernelspec": {
      "display_name": "Python 3",
      "language": "python",
      "name": "python3"
    },
    "language_info": {
      "codemirror_mode": {
        "name": "ipython",
        "version": 3
      },
      "file_extension": ".py",
      "mimetype": "text/x-python",
      "name": "python",
      "nbconvert_exporter": "python",
      "pygments_lexer": "ipython3",
      "version": "3.7.12"
    },
    "papermill": {
      "default_parameters": {},
      "duration": 3286.003741,
      "end_time": "2022-04-07T15:37:14.758526",
      "environment_variables": {},
      "exception": null,
      "input_path": "__notebook__.ipynb",
      "output_path": "__notebook__.ipynb",
      "parameters": {},
      "start_time": "2022-04-07T14:42:28.754785",
      "version": "2.3.3"
    },
    "colab": {
      "name": "spam-klasifikasi.ipynb",
      "provenance": [],
      "include_colab_link": true
    }
  },
  "nbformat": 4,
  "nbformat_minor": 5
}